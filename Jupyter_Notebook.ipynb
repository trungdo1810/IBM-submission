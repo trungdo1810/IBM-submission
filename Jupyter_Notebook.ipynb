{
 "cells": [
  {
   "cell_type": "markdown",
   "metadata": {},
   "source": [
    "<center>\n",
    "    <img src=\"https://cf-courses-data.s3.us.cloud-object-storage.appdomain.cloud/IBMDeveloperSkillsNetwork-DS0105EN-SkillsNetwork/labs/Module2/images/SN_web_lightmode.png\" width=\"300\" alt=\"cognitiveclass.ai logo\"  />\n",
    "</center>\n"
   ]
  },
  {
   "cell_type": "markdown",
   "metadata": {},
   "source": [
    "#### Add your code below following the instructions given in the course\n"
   ]
  },
  {
   "cell_type": "markdown",
   "metadata": {},
   "source": [
    "# My Jupyter Notebook on IBM Watson Studio"
   ]
  },
  {
   "cell_type": "markdown",
   "metadata": {},
   "source": [
    "__Do Thanh Trung__\n",
    "\n",
    "I am a student"
   ]
  },
  {
   "cell_type": "markdown",
   "metadata": {},
   "source": [
    "_I am interested in Data Science because I want to gain insights from data._"
   ]
  },
  {
   "cell_type": "markdown",
   "metadata": {},
   "source": [
    "### The following code test the sum function"
   ]
  },
  {
   "cell_type": "code",
   "execution_count": 3,
   "metadata": {},
   "outputs": [
    {
     "name": "stdout",
     "output_type": "stream",
     "text": [
      "3\n"
     ]
    }
   ],
   "source": [
    "def sum(a,b):\n",
    "    return a+b\n",
    "\n",
    "print(sum(1,2))"
   ]
  },
  {
   "cell_type": "markdown",
   "metadata": {},
   "source": [
    "-------------------------------------------------------\n",
    "1. Dog\n",
    "2. Cat\n",
    "3. Fish\n",
    "\n",
    "![Dog](data:image/jpeg;base64,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)"
   ]
  },
  {
   "cell_type": "code",
   "execution_count": null,
   "metadata": {},
   "outputs": [],
   "source": []
  }
 ],
 "metadata": {
  "kernelspec": {
   "display_name": "Python",
   "language": "python",
   "name": "conda-env-python-py"
  },
  "language_info": {
   "codemirror_mode": {
    "name": "ipython",
    "version": 3
   },
   "file_extension": ".py",
   "mimetype": "text/x-python",
   "name": "python",
   "nbconvert_exporter": "python",
   "pygments_lexer": "ipython3",
   "version": "3.7.12"
  }
 },
 "nbformat": 4,
 "nbformat_minor": 4
}
